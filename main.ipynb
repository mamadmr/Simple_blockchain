{
 "cells": [
  {
   "cell_type": "markdown",
   "metadata": {},
   "source": [
    "The information of the genesis block in JSON format is available. You can also download fifteen ledgers and fifteen different puzzles from the above addresses. You should find a nonce value in each round to solve the puzzle for each ledger and make the corresponding blocks. Eventually, you will compute a blockchain with 16 blocks.\n",
    "\n",
    "* Use SHA-256 for producing hash.\n",
    "\n",
    "* Your program has to print the block number, block hash, the hash of the previous block, and the nonce value in each round."
   ]
  },
  {
   "cell_type": "code",
   "execution_count": 51,
   "metadata": {},
   "outputs": [
    {
     "name": "stdout",
     "output_type": "stream",
     "text": [
      "{'Address': '192.168.1.143:4022', 'ProfilerStatus': True}\n"
     ]
    }
   ],
   "source": [
    "# read the GenesisBlock from its file and print it out\n",
    "import json\n",
    "\n",
    "with open('data/GenesisBlock.json') as f:\n",
    "    genesis_block = json.load(f)\n",
    "\n",
    "print(genesis_block)"
   ]
  },
  {
   "cell_type": "code",
   "execution_count": 52,
   "metadata": {},
   "outputs": [
    {
     "name": "stdout",
     "output_type": "stream",
     "text": [
      "[{'Address': '192.168.1.143:4022', 'ProfilerStatus': True}, {'blockNumber': 2, 'User1': {'Information': {'Sender': '5LWVR2K5NOFARAR5G2JD4HYLR64YS7N6R3D6TAUZYPTK6WOGQDXSUKVXKI', 'Receiver': 'Z7QJ26HVKLIUUAGK7P4ZWW5NHM226MWE2CGYHWLIZ5MATASRGD7OKDN4SA', 'Amount': 94}}, 'User2': {'Information': {'Sender': '4UPVWBYRO5HZOGNPAUHHUJLRT5RVWKOZ2RW2KQKDMXYXXBO2GQEFC2HYVE', 'Receiver': 'KEWJ26HVKLIUUAGK7P4ZWW5NHM226MWE2CGYHWLIZ5MATASRGD7OKDN4SA', 'Amount': 80}}, 'User3': {'Information': {'Sender': 'PIMVX2P6XJ7TPCMFLAP76LPJK5PSYM32AT43BNUVTFVNDJTGQRG7T7YBXY', 'Receiver': 'MTZH363T3JH3ZM75DCDDFE543RLUBF4SY7X5NEEHHHYXTMHCQ6OG5PUD6M', 'Amount': 52}}}, {'blockNumber': 3, 'User1': {'Information': {'Sender': 'PIMVX2P6XJ7TPCMFLPP76LPJK5PSYM32AT43BNUVTFVNDJTGQRG7T7YBXY', 'Receiver': 'GMMSSERGZW4YKYGP4UGA2LSVJXZXQTK77XB55RVHMCM6XF45RAYNKODZ7M', 'Amount': 30}}, 'User2': {'Information': {'Sender': 'BGXGGH6W6DSXXIULTPQLZB3MGRWQHAZT5TXLKULU7QXMYVYOXT4IBRHF2A', 'Receiver': 'Z7QJ26HVKLIUUAGK7P4ZWW5NHM226MWE2CGYHWLIZ5MATASRGD7OKDN4SA', 'Amount': 192}}}, {'blockNumber': 4, 'User1': {'Information': {'Sender': '5LWVR2K5NOFARAR5G2JD4HYLR64YS7N6R3D6TAUZYPTK6WOGQDXSUKVXKI', 'Receiver': 'Z7QJ26HVALIUUAGK7P4ZWW5NHM226MWE2CGYHWLIZ5MATASRGD7OKDN4SA', 'Amount': 5}}, 'User2': {'Information': {'Sender': 'HUTRD57TIGVNXTYW3ZL4DQXBGN67G7QWLZIL6SAAVDSD5LSXZABUIAMXY4', 'Receiver': 'C7RYOGEWDT7HZM3HKPSMU7QGWTRWR3EPOQTJ2OHXGYLARD3X62DNWELS34', 'Amount': 133}}}, {'blockNumber': 5, 'User1': {'Information': {'Sender': 'WWTRD00TIGVNXTYW3ZL4DQ55GN67G7QWLZIL6SAAVDSD5LSXZABUIAMAAA', 'Receiver': 'XS626XS4YW5T43D2OQRC3UG4P4DAFHDYYEWO3TXN7UIQAA5QTKEAEEWROA', 'Amount': 68}}, 'User2': {'Information': {'Sender': 'HUTRD57TIGVNXTYW3ZL4DQXBGN67G7QWLZIL6SAAVDSD5LSXZABUIAMXY4', 'Receiver': 'MTZH363T3JH3ZM7ODCDDFE543RLUBF4SY7X5NEEHHHYXTMHCQ6OG5PUD6M', 'Amount': 329}}}, {'blockNumber': 6, 'User1': {'Information': {'Sender': 'DNWELS34IGVNXTYW3ZL4DQ55GN67G7QWLZIL6SAAVDSD5LSXZABUIDQXBG', 'Receiver': '45BLKZLJ7M4LRBH23KJETT2CK2PY66NJOYNIITOQKF6GJNA36KX4B5H4VQ', 'Amount': 55}}, 'User2': {'Information': {'Sender': '2RQWH5HJHN2XTYQ7WIKIOEJ7LKRCPFY63AN62YDEGUKHX4U7BD4EO73J2M', 'Receiver': 'C7RYOGEWDT7HZM3HKPSMU7QGWTRWR3EPOQTJ2OHXGYLARD3X62DNWELS34', 'Amount': 16}}, 'User3': {'Information': {'Sender': 'ICPFY6HJHN2XTYQ7WIKIOEJ7LKRCPFY63AN62YDEGUKHX4U7BD4EO7DEGU', 'Receiver': 'KPSMU7QWDT7HZM3HKPSMU7QGWTRWR3EPOQTJ2OHXGYLARD3X62DNW2RQW4', 'Amount': 49}}}, {'blockNumber': 7, 'User1': {'Information': {'Sender': 'NWUE6OT4NFEROFVHBCFYDXETEITIP3J6COKU6SMYFGC6UHAXZZIHSWN7DU', 'Receiver': 'BSYV5WCRTPJH7CAHY5FIQIULDTNG7BOX4NDUAZ2UUKCUQTYEEJNWNECLIM', 'Amount': 9}}, 'User2': {'Information': {'Sender': '7ZLOISXEID67SJSVCXCIL46YSX36LZ5352N6XNWZTHBEQVV4O3FIMXPMC4', 'Receiver': 'NRDDQ7MFRTUTMDAP4CBXDQ2IVP5VSLKDASADLLANYLFIKR7NQOGOUINYM4', 'Amount': 325}}}, {'blockNumber': 8, 'User1': {'Information': {'Sender': '1111ER55ENOFLSQ7G24K4JQJCLRVJWN6OHCODDR2QSHPFYHS5HXEEPGXBI', 'Receiver': 'AERYOGEWDT7HZM3HKPSMU7QGWTRWR3EPOQTJ2OHXGYLARD3X62DNWELS34', 'Amount': 25}}, 'User2': {'Information': {'Sender': 'PRICEP3G2F5L6ZG5WTJIAKEQW4OJJ3FM4XVFQDZI7M2VBTFVUHTTR2AU2U', 'Receiver': 'CVXODNSCAYLSLSIP6T34G4BBEO4OU2NHB4AAXS2GUA6Y56H3ZLO3BP34QQ', 'Amount': 91}}}, {'blockNumber': 9, 'User1': {'Information': {'Sender': 'WWTRD00TIGVNXTYW3ZL4DQ55GN67G7QWLZIL6SAAVDSD5LSXZABUIAMAAA', 'Receiver': 'AAAYOGEWDT7HZM3HKPSMU7QGWTRWR3EPOQTJ2OHXGYLARD3X62DNWELS34', 'Amount': 51}}, 'User2': {'Information': {'Sender': '45BLKZLJ7M4LRBH23KJETT2CK2PY66NJOYNIITOQKF6GJNA36KX4B5H4VQ', 'Receiver': '4UPVWBYRO5HZOGNPAUHHUJLRT5RVWKOZ2RW2KQKDMXYXXBO2GQEFC2HYVE', 'Amount': 273}}}, {'blockNumber': 10, 'User1': {'Information': {'Sender': 'TTYYD00TIGVNXTYW3ZL4DQ55GN67G7QWLZIL6SAAVDSD5LSXZABUYYMA2F', 'Receiver': 'O6VT2UXTXXKD6237ULYT3AZ2QKXT7BZZH5OIATJRG6WTUUP2WLWSOZMYSM', 'Amount': 94}}, 'User2': {'Information': {'Sender': 'ALSAEKNE7NHBPC46WIVPPIY7IG6G2I4DCDAV3BHJZLY2AMI65UCL4XZYY4', 'Receiver': 'RJVB7LQ6P32HJ22QCM53PXHOACAFWYXU5J6ONM5762HCAVLIKQKLRDNA3I', 'Amount': 162}}}, {'blockNumber': 11, 'User1': {'Information': {'Sender': 'LS3EPOAXSYC46WEE3234G4AAAO4OU2NHB4AAXS2AXAR6W6H3ZLO3BPC46W', 'Receiver': 'WELS34EWDWR3ZM3HKPSMU7QGWTRWR3EPOQTJ2OHXGYLARD3X62DNWEOHXG', 'Amount': 26}}, 'User2': {'Information': {'Sender': 'ALSAEKNE7NHBPC46WIVPPIY7IG6G2I4DCDAV3BHJZLY2AMI65UCL4XZYY4', 'Receiver': 'G4BBEOAXSYLSLSIP6T34G4BBEO4OU2NHB4AAXS2AXS6Y56H3ZLO3BPLY2E', 'Amount': 45}}}, {'blockNumber': 12, 'User1': {'Information': {'Sender': 'A0FDCC590LIUUAGK7P4ZWWKQCA77F99810683D437463203CF8765B94E5', 'Receiver': 'WBYRO5HE38176D628B5F9FDD997804KC8A46E7545547F6DB7E175096B9', 'Amount': 69}}, 'User2': {'Information': {'Sender': '9F43F4A48479FB03C44F028D6B43CF44ECC102F07D1E90D142C9BD3890', 'Receiver': 'KEWJ26HVKLIUUAGK7P4ZWW5NHM226MWE2CGYHWLIZ5MATASRGD7OKDN4SA', 'Amount': 118}}, 'User3': {'Information': {'Sender': '99QWR2K5NOFARAR5G2JD4HYLR64YS7N6R3D6TAUZYPTK6WOGQDXSEAEFG2', 'Receiver': 'RAR5G2AEEAEFE2BA62FFB272599736E58C6B4ABED8B7619745E14D465D', 'Amount': 59}}}, {'blockNumber': 13, 'User1': {'Information': {'Sender': 'FAEWOGEWDT7HZM3HKPSMU7QGWTRWR3EPOQTJ2OHXGYLARD3X62DNWELS34', 'Receiver': 'JJELKZLJ7M4LRBH23KJETT2CK2PY66NJOYNIITOQKF6GJNA36KX4B5H4VQ', 'Amount': 193}}, 'User2': {'Information': {'Sender': 'WBYRO5HE38176D628B5F9FDD997804KC8A46E7545547F6DB7E175096B9', 'Receiver': '999FY6HJHN2XTYQ7WIKIOEJ7LKRCPFY63AN62YDEGUKHX4U7BD4EO7YQLU', 'Amount': 34}}}, {'blockNumber': 15, 'User1': {'Information': {'Sender': 'KF6G34EWDWR39991KPSMU7QGWTRWR3EPOQTJ2OHXGYLARD3X62DNWEAAA2', 'Receiver': '2OHXGOQ2LARDRBH23KJETT2CK2PY66NJOYNIITOQKF6GJNA36KX4B5PFJJ', 'Amount': 73}}, 'User2': {'Information': {'Sender': '0000AGLQN8176D628B5F9FDD997804KC8A46E7545547F6DB7E17PF99PF', 'Receiver': 'GALX2241209XTYQ7WIKIOEJ7LKRCPFY63AN62YDEGUKHX4U7BD4EO7Y545', 'Amount': 34}}}, {'blockNumber': 15, 'User1': {'Information': {'Sender': 'LS3EPOAXSYC46WEE3234G4AAAO4OU2NHB4AAXS2AXAR6W6H3ZLO3BPC518', 'Receiver': '34G4AAAO7M4LRBH23KJETT2CK2PY66NJOYNIITOQKF6GJNA36KX4BHB499', 'Amount': 13}}, 'User2': {'Information': {'Sender': 'AO4OU2NQQ8176D628B5F9FDD997804KC8A46E7545547F6DB7E17509611', 'Receiver': 'GSAK4521SN2XTYQ7WIKIOEJ7LKRCPFY63AN62YDEGUKHX4U7BD4EO7YKGW', 'Amount': 91}}}, {'blockNumber': 16, 'User1': {'Information': {'Sender': '10ZL77M4LT7HZM3HKPSMU7QGWTRWR3EPOQTJ2OHXGYLARD3X62DNWLLL21', 'Receiver': 'M4LRKZLJ7M4LRBH23KJETT2CK2PY66NJOYNIITOQKF6GJNA36KX4BASKE4', 'Amount': 55}}, 'User2': {'Information': {'Sender': '15CPFYG3SYLSLSIP6T34G4BBEO4OU2NHB4AAXS2AXS6Y56H3ZLO3BPLAAA', 'Receiver': '2AXS6Y56KN2XTYQ7WIKIOEJ7LKRCPFY63AN62YDEGUKHX4U7BD4EO76H3K', 'Amount': 83}}}]\n"
     ]
    }
   ],
   "source": [
    "# read ledgers  \n",
    "import os \n",
    "\n",
    "address = 'data/ledgers/'\n",
    "ledgers_file_name = os.listdir(address)\n",
    "\n",
    "ledgers = []\n",
    "\n",
    "for i in ledgers_file_name:\n",
    "    with open(address+i) as f:\n",
    "        ledgers.append(json.load(f))\n",
    "\n",
    "ledgers = sorted(ledgers, key=lambda x: x['blockNumber'])\n",
    "ledgers.insert(0, genesis_block)\n",
    "\n",
    "print(ledgers)"
   ]
  },
  {
   "cell_type": "code",
   "execution_count": 53,
   "metadata": {},
   "outputs": [
    {
     "name": "stdout",
     "output_type": "stream",
     "text": [
      "{\n",
      "    \"Address\": \"192.168.1.143:4022\",\n",
      "    \"ProfilerStatus\": true\n",
      "}\n"
     ]
    }
   ],
   "source": [
    "# print the first ledger in the beautiful format\n",
    "print(json.dumps(ledgers[0], indent=4))\n"
   ]
  },
  {
   "cell_type": "code",
   "execution_count": 54,
   "metadata": {},
   "outputs": [
    {
     "name": "stdout",
     "output_type": "stream",
     "text": [
      "['Math_Problem_Number12.json', 'Math_Problem_Number13.json', 'Math_Problem_Number6.json', 'Math_Problem_Number14.json', 'Math_Problem_Number15.json', 'Math_Problem_Number7.json', 'Math_Problem_Number8.json', 'Math_Problem_Number16.json', 'Math_Problem_Number4.json', 'Math_Problem_Number5.json', 'Math_Problem_Number9.json', 'Math_Problem_Number10.json', 'Math_Problem_Number2.json', 'Math_Problem_Number3.json', 'Math_Problem_Number11.json']\n",
      "['', {'blockNumber': 2, 'mathProblem': '2878'}, {'blockNumber': 3, 'mathProblem': '62e8'}, {'blockNumber': 4, 'mathProblem': '51b5'}, {'blockNumber': 5, 'mathProblem': 'a8c8'}, {'blockNumber': 6, 'mathProblem': '1882'}, {'blockNumber': 7, 'mathProblem': '5915'}, {'blockNumber': 8, 'mathProblem': '8888'}, {'blockNumber': 9, 'mathProblem': '393a'}, {'blockNumber': 10, 'mathProblem': '1000'}, {'blockNumber': 11, 'mathProblem': '9998'}, {'blockNumber': 12, 'mathProblem': '513f'}, {'blockNumber': 13, 'mathProblem': '8ccb'}, {'blockNumber': 14, 'mathProblem': '5291'}, {'blockNumber': 15, 'mathProblem': '2e41'}, {'blockNumber': 16, 'mathProblem': '50cddd9'}]\n"
     ]
    }
   ],
   "source": [
    "# read math_problem from its file\n",
    "\n",
    "address = 'data/math_problems/'\n",
    "math_problems_file_name = os.listdir(address)\n",
    "print(math_problems_file_name)\n",
    "math_problems = []\n",
    "\n",
    "for i in math_problems_file_name:\n",
    "    with open(address+i) as f:\n",
    "        math_problems.append(json.load(f))\n",
    "math_problems = sorted(math_problems, key=lambda x: x['blockNumber'])\n",
    "math_problems.insert(0, '')\n",
    "\n",
    "print(math_problems)"
   ]
  },
  {
   "cell_type": "code",
   "execution_count": 55,
   "metadata": {},
   "outputs": [
    {
     "name": "stdout",
     "output_type": "stream",
     "text": [
      "\"\"\n"
     ]
    }
   ],
   "source": [
    "# print the first math_problem in the beautiful format\n",
    "print(json.dumps(math_problems[0], indent=4))"
   ]
  },
  {
   "cell_type": "code",
   "execution_count": 56,
   "metadata": {},
   "outputs": [
    {
     "name": "stdout",
     "output_type": "stream",
     "text": [
      "b94d27b9934d3e08a52e52d7da7dabfac484efe37a5380ee9088f7ace2efcde9\n"
     ]
    }
   ],
   "source": [
    "# test sha256 hash\n",
    "import hashlib\n",
    "\n",
    "def sha256_hash(data):\n",
    "    return hashlib.sha256(data.encode()).hexdigest()\n",
    "\n",
    "print(sha256_hash('hello world'))"
   ]
  },
  {
   "cell_type": "code",
   "execution_count": 57,
   "metadata": {},
   "outputs": [
    {
     "name": "stdout",
     "output_type": "stream",
     "text": [
      "1\n",
      "2\n",
      "3\n",
      "4\n",
      "5\n",
      "6\n",
      "7\n",
      "8\n",
      "9\n",
      "10\n",
      "11\n",
      "12\n",
      "13\n",
      "14\n",
      "15\n"
     ]
    }
   ],
   "source": [
    "# solve for the block number two \n",
    "\n",
    "for i in range(1, len(ledgers)):\n",
    "    ledgers[i]['previousHash'] = sha256_hash(json.dumps(ledgers[i-1]))\n",
    "    ledgers[i]['nonce'] = 0\n",
    "    while True:\n",
    "        ledgers[i]['nonce'] += 1\n",
    "        if sha256_hash(json.dumps(ledgers[i])).endswith(math_problems[i]['mathProblem']):\n",
    "            break\n",
    "    ledgers[i]['hash'] = sha256_hash(json.dumps(ledgers[i]))\n",
    "    print(i)\n"
   ]
  },
  {
   "cell_type": "code",
   "execution_count": 59,
   "metadata": {},
   "outputs": [
    {
     "name": "stdout",
     "output_type": "stream",
     "text": [
      "#########################################################################\n",
      "blockNumber:  2\n",
      "blockHash:  713e4ff8c3fa0594d255e18665c562b7d95de1188e3ae1628b63c6ee26462878\n",
      "previousHash:  2de0550d40fd60958fc30fda29bcf1044d7de24b10315f8e20229251b9b2aae0\n",
      "nonce:  33821\n",
      "\n",
      "\n",
      "\n",
      "#########################################################################\n",
      "blockNumber:  3\n",
      "blockHash:  2ec4fe38e2d8a2be387bfe4295c4da87f516234ae017f8c07751ca1cbe4562e8\n",
      "previousHash:  9d8664984414a119a61ca64f520357992d974483289cdc8eaae557fb231c9d19\n",
      "nonce:  48695\n",
      "\n",
      "\n",
      "\n",
      "#########################################################################\n",
      "blockNumber:  4\n",
      "blockHash:  c50c89f3fc70518c8d0f553964872a36d9d76509331e260f44ebd1b2ea5351b5\n",
      "previousHash:  60c39163e6ea46e2fc7997c5dd2ff45e83f8f9c935d450dec94b89dd16047711\n",
      "nonce:  143180\n",
      "\n",
      "\n",
      "\n",
      "#########################################################################\n",
      "blockNumber:  5\n",
      "blockHash:  c39256dae394a410927f178ab5ac07c2430eae303c43896da48606cb5f68a8c8\n",
      "previousHash:  9b9809489ad4b88f46828f3b2d681956a1a76039aece77d763e5618222c923fc\n",
      "nonce:  21060\n",
      "\n",
      "\n",
      "\n",
      "#########################################################################\n",
      "blockNumber:  6\n",
      "blockHash:  5c42bd332c40f5cb06365043b60d212bad3156b0298035c0208827e1fd671882\n",
      "previousHash:  8cf5c1cd6483a628bb0bb87119e0475d657cdab54fe8bd2cdd0677d00748290c\n",
      "nonce:  98424\n",
      "\n",
      "\n",
      "\n",
      "#########################################################################\n",
      "blockNumber:  7\n",
      "blockHash:  eef4eef6509f093c481a6729aaf2eb8a7730e5fd81dc4881d3de2535cbd95915\n",
      "previousHash:  2fe58526168dc03c27eb3d95432435f8bf095654b28350e43368a9f6330eec04\n",
      "nonce:  9780\n",
      "\n",
      "\n",
      "\n",
      "#########################################################################\n",
      "blockNumber:  8\n",
      "blockHash:  b6bca68aeadae648f0b79ea5b0a8d82b2a79fd30c9d9f6af5eb87d5240c18888\n",
      "previousHash:  337f119e01fe76fc2c9cdbf23d018282db021a986d108bbf1e03d55ad8fba3e9\n",
      "nonce:  24774\n",
      "\n",
      "\n",
      "\n",
      "#########################################################################\n",
      "blockNumber:  9\n",
      "blockHash:  14bccc780d3c925a524f98d92f5f4c793166c7a8669d4d1d652808294748393a\n",
      "previousHash:  eac623a7d8be6aec67a65db6ffd3b79f81ad2c869ac3dcbd9d24041cc31e7c96\n",
      "nonce:  30738\n",
      "\n",
      "\n",
      "\n",
      "#########################################################################\n",
      "blockNumber:  10\n",
      "blockHash:  186624ee9df4e3a6cce9fcbe3f6bdb1ec0d867dd2a7f8046e244981668e51000\n",
      "previousHash:  960996e5ac27dde65a615bf78e768e659d16fae91d30977e681e28704f96040c\n",
      "nonce:  30272\n",
      "\n",
      "\n",
      "\n",
      "#########################################################################\n",
      "blockNumber:  11\n",
      "blockHash:  4d9e074fd02d1be560a1de78ee90c97ccbcafae54f79527add2b35579c459998\n",
      "previousHash:  950852f674d7839f3bb8ecf2cb92a07f045a7e281d836ba56e24506b77ee3bde\n",
      "nonce:  90310\n",
      "\n",
      "\n",
      "\n",
      "#########################################################################\n",
      "blockNumber:  12\n",
      "blockHash:  4ddd7e5e96c8a49a55ba7773d4233ff26c7d5e0e4a67f73f68ea66b1b5f5513f\n",
      "previousHash:  175eb4f879a21ee05cee1eff38a37a514e5be8e5659e734be18769015b70caf0\n",
      "nonce:  22108\n",
      "\n",
      "\n",
      "\n",
      "#########################################################################\n",
      "blockNumber:  13\n",
      "blockHash:  571e83f40f79d872a1392e428b8538f37df7b6fbc16cc1e457723a5f21858ccb\n",
      "previousHash:  f59e914ed3f373963fb2499be5396bb49e75fa7df5a7ebd550cb1ff4db4d8a86\n",
      "nonce:  62946\n",
      "\n",
      "\n",
      "\n",
      "#########################################################################\n",
      "blockNumber:  15\n",
      "blockHash:  dd40650ffb13585a828c73aa7c4a3b6164cfadea373119b9ffed59e558715291\n",
      "previousHash:  33d05c5606ff0f43d6cb9b2f46dbb796ee071af29d9637f6d9dab028ce259dda\n",
      "nonce:  37485\n",
      "\n",
      "\n",
      "\n",
      "#########################################################################\n",
      "blockNumber:  15\n",
      "blockHash:  bc5742b61d87176aab809c895617e6b33a0a909af30476215fb2a53f90bf2e41\n",
      "previousHash:  edbd01dae592a64aeec9878cd61da5c95870385a57ad50f30ddb7579e7dcc2b6\n",
      "nonce:  106593\n",
      "\n",
      "\n",
      "\n",
      "#########################################################################\n",
      "blockNumber:  16\n",
      "blockHash:  69e5271f7017bc0e229920a8f3ba051ee89f0974e22742fe6580cd89d50cddd9\n",
      "previousHash:  423d44e810cd13e6d8055a34cb0c206c8461eb9ff16d9422f6e1102d12acda32\n",
      "nonce:  36820064\n",
      "\n",
      "\n",
      "\n"
     ]
    }
   ],
   "source": [
    "for i in range(1, len(ledgers)):\n",
    "    print(\"#########################################################################\")\n",
    "    print(\"blockNumber: \", ledgers[i]['blockNumber'])\n",
    "    print(\"blockHash: \", ledgers[i]['hash'])\n",
    "    print(\"previousHash: \", ledgers[i]['previousHash'])\n",
    "    print(\"nonce: \", ledgers[i]['nonce'])\n",
    "    print('\\n\\n')\n",
    "\n"
   ]
  }
 ],
 "metadata": {
  "kernelspec": {
   "display_name": "Python 3",
   "language": "python",
   "name": "python3"
  },
  "language_info": {
   "codemirror_mode": {
    "name": "ipython",
    "version": 3
   },
   "file_extension": ".py",
   "mimetype": "text/x-python",
   "name": "python",
   "nbconvert_exporter": "python",
   "pygments_lexer": "ipython3",
   "version": "3.11.3"
  }
 },
 "nbformat": 4,
 "nbformat_minor": 2
}
