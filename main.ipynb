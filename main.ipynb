{
 "cells": [
  {
   "cell_type": "markdown",
   "metadata": {},
   "source": [
    "The information of the genesis block in JSON format is available. You can also download fifteen ledgers and fifteen different puzzles from the above addresses. You should find a nonce value in each round to solve the puzzle for each ledger and make the corresponding blocks. Eventually, you will compute a blockchain with 16 blocks.\n",
    "\n",
    "* Use SHA-256 for producing hash.\n",
    "\n",
    "* Your program has to print the block number, block hash, the hash of the previous block, and the nonce value in each round."
   ]
  },
  {
   "cell_type": "code",
   "execution_count": 4,
   "metadata": {},
   "outputs": [
    {
     "name": "stdout",
     "output_type": "stream",
     "text": [
      "{'Address': '192.168.1.143:4022', 'ProfilerStatus': True}\n"
     ]
    }
   ],
   "source": [
    "# read the GenesisBlock from its file and print it out\n",
    "import json\n",
    "\n",
    "with open('data/GenesisBlock.json') as f:\n",
    "    genesis_block = json.load(f)\n",
    "\n",
    "print(genesis_block)"
   ]
  },
  {
   "cell_type": "code",
   "execution_count": 5,
   "metadata": {},
   "outputs": [
    {
     "name": "stdout",
     "output_type": "stream",
     "text": [
      "[{'blockNumber': 2, 'User1': {'Information': {'Sender': '5LWVR2K5NOFARAR5G2JD4HYLR64YS7N6R3D6TAUZYPTK6WOGQDXSUKVXKI', 'Receiver': 'Z7QJ26HVKLIUUAGK7P4ZWW5NHM226MWE2CGYHWLIZ5MATASRGD7OKDN4SA', 'Amount': 94}}, 'User2': {'Information': {'Sender': '4UPVWBYRO5HZOGNPAUHHUJLRT5RVWKOZ2RW2KQKDMXYXXBO2GQEFC2HYVE', 'Receiver': 'KEWJ26HVKLIUUAGK7P4ZWW5NHM226MWE2CGYHWLIZ5MATASRGD7OKDN4SA', 'Amount': 80}}, 'User3': {'Information': {'Sender': 'PIMVX2P6XJ7TPCMFLAP76LPJK5PSYM32AT43BNUVTFVNDJTGQRG7T7YBXY', 'Receiver': 'MTZH363T3JH3ZM75DCDDFE543RLUBF4SY7X5NEEHHHYXTMHCQ6OG5PUD6M', 'Amount': 52}}}, {'blockNumber': 3, 'User1': {'Information': {'Sender': 'PIMVX2P6XJ7TPCMFLPP76LPJK5PSYM32AT43BNUVTFVNDJTGQRG7T7YBXY', 'Receiver': 'GMMSSERGZW4YKYGP4UGA2LSVJXZXQTK77XB55RVHMCM6XF45RAYNKODZ7M', 'Amount': 30}}, 'User2': {'Information': {'Sender': 'BGXGGH6W6DSXXIULTPQLZB3MGRWQHAZT5TXLKULU7QXMYVYOXT4IBRHF2A', 'Receiver': 'Z7QJ26HVKLIUUAGK7P4ZWW5NHM226MWE2CGYHWLIZ5MATASRGD7OKDN4SA', 'Amount': 192}}}, {'blockNumber': 4, 'User1': {'Information': {'Sender': '5LWVR2K5NOFARAR5G2JD4HYLR64YS7N6R3D6TAUZYPTK6WOGQDXSUKVXKI', 'Receiver': 'Z7QJ26HVALIUUAGK7P4ZWW5NHM226MWE2CGYHWLIZ5MATASRGD7OKDN4SA', 'Amount': 5}}, 'User2': {'Information': {'Sender': 'HUTRD57TIGVNXTYW3ZL4DQXBGN67G7QWLZIL6SAAVDSD5LSXZABUIAMXY4', 'Receiver': 'C7RYOGEWDT7HZM3HKPSMU7QGWTRWR3EPOQTJ2OHXGYLARD3X62DNWELS34', 'Amount': 133}}}, {'blockNumber': 5, 'User1': {'Information': {'Sender': 'WWTRD00TIGVNXTYW3ZL4DQ55GN67G7QWLZIL6SAAVDSD5LSXZABUIAMAAA', 'Receiver': 'XS626XS4YW5T43D2OQRC3UG4P4DAFHDYYEWO3TXN7UIQAA5QTKEAEEWROA', 'Amount': 68}}, 'User2': {'Information': {'Sender': 'HUTRD57TIGVNXTYW3ZL4DQXBGN67G7QWLZIL6SAAVDSD5LSXZABUIAMXY4', 'Receiver': 'MTZH363T3JH3ZM7ODCDDFE543RLUBF4SY7X5NEEHHHYXTMHCQ6OG5PUD6M', 'Amount': 329}}}, {'blockNumber': 6, 'User1': {'Information': {'Sender': 'DNWELS34IGVNXTYW3ZL4DQ55GN67G7QWLZIL6SAAVDSD5LSXZABUIDQXBG', 'Receiver': '45BLKZLJ7M4LRBH23KJETT2CK2PY66NJOYNIITOQKF6GJNA36KX4B5H4VQ', 'Amount': 55}}, 'User2': {'Information': {'Sender': '2RQWH5HJHN2XTYQ7WIKIOEJ7LKRCPFY63AN62YDEGUKHX4U7BD4EO73J2M', 'Receiver': 'C7RYOGEWDT7HZM3HKPSMU7QGWTRWR3EPOQTJ2OHXGYLARD3X62DNWELS34', 'Amount': 16}}, 'User3': {'Information': {'Sender': 'ICPFY6HJHN2XTYQ7WIKIOEJ7LKRCPFY63AN62YDEGUKHX4U7BD4EO7DEGU', 'Receiver': 'KPSMU7QWDT7HZM3HKPSMU7QGWTRWR3EPOQTJ2OHXGYLARD3X62DNW2RQW4', 'Amount': 49}}}, {'blockNumber': 7, 'User1': {'Information': {'Sender': 'NWUE6OT4NFEROFVHBCFYDXETEITIP3J6COKU6SMYFGC6UHAXZZIHSWN7DU', 'Receiver': 'BSYV5WCRTPJH7CAHY5FIQIULDTNG7BOX4NDUAZ2UUKCUQTYEEJNWNECLIM', 'Amount': 9}}, 'User2': {'Information': {'Sender': '7ZLOISXEID67SJSVCXCIL46YSX36LZ5352N6XNWZTHBEQVV4O3FIMXPMC4', 'Receiver': 'NRDDQ7MFRTUTMDAP4CBXDQ2IVP5VSLKDASADLLANYLFIKR7NQOGOUINYM4', 'Amount': 325}}}, {'blockNumber': 8, 'User1': {'Information': {'Sender': '1111ER55ENOFLSQ7G24K4JQJCLRVJWN6OHCODDR2QSHPFYHS5HXEEPGXBI', 'Receiver': 'AERYOGEWDT7HZM3HKPSMU7QGWTRWR3EPOQTJ2OHXGYLARD3X62DNWELS34', 'Amount': 25}}, 'User2': {'Information': {'Sender': 'PRICEP3G2F5L6ZG5WTJIAKEQW4OJJ3FM4XVFQDZI7M2VBTFVUHTTR2AU2U', 'Receiver': 'CVXODNSCAYLSLSIP6T34G4BBEO4OU2NHB4AAXS2GUA6Y56H3ZLO3BP34QQ', 'Amount': 91}}}, {'blockNumber': 9, 'User1': {'Information': {'Sender': 'WWTRD00TIGVNXTYW3ZL4DQ55GN67G7QWLZIL6SAAVDSD5LSXZABUIAMAAA', 'Receiver': 'AAAYOGEWDT7HZM3HKPSMU7QGWTRWR3EPOQTJ2OHXGYLARD3X62DNWELS34', 'Amount': 51}}, 'User2': {'Information': {'Sender': '45BLKZLJ7M4LRBH23KJETT2CK2PY66NJOYNIITOQKF6GJNA36KX4B5H4VQ', 'Receiver': '4UPVWBYRO5HZOGNPAUHHUJLRT5RVWKOZ2RW2KQKDMXYXXBO2GQEFC2HYVE', 'Amount': 273}}}, {'blockNumber': 10, 'User1': {'Information': {'Sender': 'TTYYD00TIGVNXTYW3ZL4DQ55GN67G7QWLZIL6SAAVDSD5LSXZABUYYMA2F', 'Receiver': 'O6VT2UXTXXKD6237ULYT3AZ2QKXT7BZZH5OIATJRG6WTUUP2WLWSOZMYSM', 'Amount': 94}}, 'User2': {'Information': {'Sender': 'ALSAEKNE7NHBPC46WIVPPIY7IG6G2I4DCDAV3BHJZLY2AMI65UCL4XZYY4', 'Receiver': 'RJVB7LQ6P32HJ22QCM53PXHOACAFWYXU5J6ONM5762HCAVLIKQKLRDNA3I', 'Amount': 162}}}, {'blockNumber': 11, 'User1': {'Information': {'Sender': 'LS3EPOAXSYC46WEE3234G4AAAO4OU2NHB4AAXS2AXAR6W6H3ZLO3BPC46W', 'Receiver': 'WELS34EWDWR3ZM3HKPSMU7QGWTRWR3EPOQTJ2OHXGYLARD3X62DNWEOHXG', 'Amount': 26}}, 'User2': {'Information': {'Sender': 'ALSAEKNE7NHBPC46WIVPPIY7IG6G2I4DCDAV3BHJZLY2AMI65UCL4XZYY4', 'Receiver': 'G4BBEOAXSYLSLSIP6T34G4BBEO4OU2NHB4AAXS2AXS6Y56H3ZLO3BPLY2E', 'Amount': 45}}}, {'blockNumber': 12, 'User1': {'Information': {'Sender': 'A0FDCC590LIUUAGK7P4ZWWKQCA77F99810683D437463203CF8765B94E5', 'Receiver': 'WBYRO5HE38176D628B5F9FDD997804KC8A46E7545547F6DB7E175096B9', 'Amount': 69}}, 'User2': {'Information': {'Sender': '9F43F4A48479FB03C44F028D6B43CF44ECC102F07D1E90D142C9BD3890', 'Receiver': 'KEWJ26HVKLIUUAGK7P4ZWW5NHM226MWE2CGYHWLIZ5MATASRGD7OKDN4SA', 'Amount': 118}}, 'User3': {'Information': {'Sender': '99QWR2K5NOFARAR5G2JD4HYLR64YS7N6R3D6TAUZYPTK6WOGQDXSEAEFG2', 'Receiver': 'RAR5G2AEEAEFE2BA62FFB272599736E58C6B4ABED8B7619745E14D465D', 'Amount': 59}}}, {'blockNumber': 13, 'User1': {'Information': {'Sender': 'FAEWOGEWDT7HZM3HKPSMU7QGWTRWR3EPOQTJ2OHXGYLARD3X62DNWELS34', 'Receiver': 'JJELKZLJ7M4LRBH23KJETT2CK2PY66NJOYNIITOQKF6GJNA36KX4B5H4VQ', 'Amount': 193}}, 'User2': {'Information': {'Sender': 'WBYRO5HE38176D628B5F9FDD997804KC8A46E7545547F6DB7E175096B9', 'Receiver': '999FY6HJHN2XTYQ7WIKIOEJ7LKRCPFY63AN62YDEGUKHX4U7BD4EO7YQLU', 'Amount': 34}}}, {'blockNumber': 15, 'User1': {'Information': {'Sender': 'KF6G34EWDWR39991KPSMU7QGWTRWR3EPOQTJ2OHXGYLARD3X62DNWEAAA2', 'Receiver': '2OHXGOQ2LARDRBH23KJETT2CK2PY66NJOYNIITOQKF6GJNA36KX4B5PFJJ', 'Amount': 73}}, 'User2': {'Information': {'Sender': '0000AGLQN8176D628B5F9FDD997804KC8A46E7545547F6DB7E17PF99PF', 'Receiver': 'GALX2241209XTYQ7WIKIOEJ7LKRCPFY63AN62YDEGUKHX4U7BD4EO7Y545', 'Amount': 34}}}, {'blockNumber': 15, 'User1': {'Information': {'Sender': 'LS3EPOAXSYC46WEE3234G4AAAO4OU2NHB4AAXS2AXAR6W6H3ZLO3BPC518', 'Receiver': '34G4AAAO7M4LRBH23KJETT2CK2PY66NJOYNIITOQKF6GJNA36KX4BHB499', 'Amount': 13}}, 'User2': {'Information': {'Sender': 'AO4OU2NQQ8176D628B5F9FDD997804KC8A46E7545547F6DB7E17509611', 'Receiver': 'GSAK4521SN2XTYQ7WIKIOEJ7LKRCPFY63AN62YDEGUKHX4U7BD4EO7YKGW', 'Amount': 91}}}, {'blockNumber': 16, 'User1': {'Information': {'Sender': '10ZL77M4LT7HZM3HKPSMU7QGWTRWR3EPOQTJ2OHXGYLARD3X62DNWLLL21', 'Receiver': 'M4LRKZLJ7M4LRBH23KJETT2CK2PY66NJOYNIITOQKF6GJNA36KX4BASKE4', 'Amount': 55}}, 'User2': {'Information': {'Sender': '15CPFYG3SYLSLSIP6T34G4BBEO4OU2NHB4AAXS2AXS6Y56H3ZLO3BPLAAA', 'Receiver': '2AXS6Y56KN2XTYQ7WIKIOEJ7LKRCPFY63AN62YDEGUKHX4U7BD4EO76H3K', 'Amount': 83}}}]\n"
     ]
    }
   ],
   "source": [
    "# read ledgers  \n",
    "import os \n",
    "\n",
    "address = 'data/ledgers/'\n",
    "ledgers_file_name = os.listdir(address)\n",
    "\n",
    "ledgers = []\n",
    "\n",
    "for i in ledgers_file_name:\n",
    "    with open(address+i) as f:\n",
    "        ledgers.append(json.load(f))\n",
    "\n",
    "ledgers = sorted(ledgers, key=lambda x: x['blockNumber'])\n",
    "print(ledgers)"
   ]
  },
  {
   "cell_type": "code",
   "execution_count": 6,
   "metadata": {},
   "outputs": [
    {
     "name": "stdout",
     "output_type": "stream",
     "text": [
      "{\n",
      "    \"blockNumber\": 2,\n",
      "    \"User1\": {\n",
      "        \"Information\": {\n",
      "            \"Sender\": \"5LWVR2K5NOFARAR5G2JD4HYLR64YS7N6R3D6TAUZYPTK6WOGQDXSUKVXKI\",\n",
      "            \"Receiver\": \"Z7QJ26HVKLIUUAGK7P4ZWW5NHM226MWE2CGYHWLIZ5MATASRGD7OKDN4SA\",\n",
      "            \"Amount\": 94\n",
      "        }\n",
      "    },\n",
      "    \"User2\": {\n",
      "        \"Information\": {\n",
      "            \"Sender\": \"4UPVWBYRO5HZOGNPAUHHUJLRT5RVWKOZ2RW2KQKDMXYXXBO2GQEFC2HYVE\",\n",
      "            \"Receiver\": \"KEWJ26HVKLIUUAGK7P4ZWW5NHM226MWE2CGYHWLIZ5MATASRGD7OKDN4SA\",\n",
      "            \"Amount\": 80\n",
      "        }\n",
      "    },\n",
      "    \"User3\": {\n",
      "        \"Information\": {\n",
      "            \"Sender\": \"PIMVX2P6XJ7TPCMFLAP76LPJK5PSYM32AT43BNUVTFVNDJTGQRG7T7YBXY\",\n",
      "            \"Receiver\": \"MTZH363T3JH3ZM75DCDDFE543RLUBF4SY7X5NEEHHHYXTMHCQ6OG5PUD6M\",\n",
      "            \"Amount\": 52\n",
      "        }\n",
      "    }\n",
      "}\n"
     ]
    }
   ],
   "source": [
    "# print the first ledger in the beautiful format\n",
    "print(json.dumps(ledgers[0], indent=4))\n"
   ]
  },
  {
   "cell_type": "code",
   "execution_count": 7,
   "metadata": {},
   "outputs": [
    {
     "name": "stdout",
     "output_type": "stream",
     "text": [
      "['Math_Problem_Number12.json', 'Math_Problem_Number13.json', 'Math_Problem_Number6.json', 'Math_Problem_Number14.json', 'Math_Problem_Number15.json', 'Math_Problem_Number7.json', 'Math_Problem_Number8.json', 'Math_Problem_Number16.json', 'Math_Problem_Number4.json', 'Math_Problem_Number5.json', 'Math_Problem_Number9.json', 'Math_Problem_Number10.json', 'Math_Problem_Number2.json', 'Math_Problem_Number3.json', 'Math_Problem_Number11.json']\n",
      "[{'blockNumber': 2, 'mathProblem': '2878'}, {'blockNumber': 3, 'mathProblem': '62e8'}, {'blockNumber': 4, 'mathProblem': '51b5'}, {'blockNumber': 5, 'mathProblem': 'a8c8'}, {'blockNumber': 6, 'mathProblem': '1882'}, {'blockNumber': 7, 'mathProblem': '5915'}, {'blockNumber': 8, 'mathProblem': '8888'}, {'blockNumber': 9, 'mathProblem': '393a'}, {'blockNumber': 10, 'mathProblem': '1000'}, {'blockNumber': 11, 'mathProblem': '9998'}, {'blockNumber': 12, 'mathProblem': '513f'}, {'blockNumber': 13, 'mathProblem': '8ccb'}, {'blockNumber': 14, 'mathProblem': '5291'}, {'blockNumber': 15, 'mathProblem': '2e41'}, {'blockNumber': 16, 'mathProblem': '50cddd9'}]\n"
     ]
    }
   ],
   "source": [
    "# read math_problem from its file\n",
    "\n",
    "address = 'data/math_problems/'\n",
    "math_problems_file_name = os.listdir(address)\n",
    "print(math_problems_file_name)\n",
    "math_problems = []\n",
    "\n",
    "for i in math_problems_file_name:\n",
    "    with open(address+i) as f:\n",
    "        math_problems.append(json.load(f))\n",
    "math_problems = sorted(math_problems, key=lambda x: x['blockNumber'])\n",
    "print(math_problems)"
   ]
  },
  {
   "cell_type": "code",
   "execution_count": 8,
   "metadata": {},
   "outputs": [
    {
     "name": "stdout",
     "output_type": "stream",
     "text": [
      "{\n",
      "    \"blockNumber\": 2,\n",
      "    \"mathProblem\": \"2878\"\n",
      "}\n"
     ]
    }
   ],
   "source": [
    "# print the first math_problem in the beautiful format\n",
    "print(json.dumps(math_problems[0], indent=4))"
   ]
  },
  {
   "cell_type": "code",
   "execution_count": 9,
   "metadata": {},
   "outputs": [
    {
     "name": "stdout",
     "output_type": "stream",
     "text": [
      "b94d27b9934d3e08a52e52d7da7dabfac484efe37a5380ee9088f7ace2efcde9\n"
     ]
    }
   ],
   "source": [
    "# test sha256 hash\n",
    "import hashlib\n",
    "\n",
    "def sha256_hash(data):\n",
    "    return hashlib.sha256(data.encode()).hexdigest()\n",
    "\n",
    "print(sha256_hash('hello world'))"
   ]
  },
  {
   "cell_type": "code",
   "execution_count": 10,
   "metadata": {},
   "outputs": [
    {
     "name": "stdout",
     "output_type": "stream",
     "text": [
      "1\n",
      "2\n",
      "3\n",
      "4\n",
      "5\n",
      "6\n",
      "7\n",
      "8\n",
      "9\n",
      "10\n",
      "11\n",
      "12\n",
      "13\n",
      "14\n"
     ]
    }
   ],
   "source": [
    "# solve for the block number two \n",
    "ledgers.insert(0, genesis_block)\n",
    "math_problems.insert(0, '')\n",
    "\n",
    "for i in range(1, len(ledgers)):\n",
    "    ledgers[i]['previousHash'] = sha256_hash(json.dumps(ledgers[i-1]))\n",
    "    ledgers[i]['nonce'] = 0\n",
    "    while True:\n",
    "        ledgers[i]['nonce'] += 1\n",
    "        if sha256_hash(json.dumps(ledgers[i])).endswith(math_problems[i]['mathProblem']):\n",
    "            break\n",
    "    ledgers[i]['hash'] = sha256_hash(json.dumps(ledgers[i]))\n",
    "    print(i)\n"
   ]
  }
 ],
 "metadata": {
  "kernelspec": {
   "display_name": "Python 3",
   "language": "python",
   "name": "python3"
  },
  "language_info": {
   "codemirror_mode": {
    "name": "ipython",
    "version": 3
   },
   "file_extension": ".py",
   "mimetype": "text/x-python",
   "name": "python",
   "nbconvert_exporter": "python",
   "pygments_lexer": "ipython3",
   "version": "3.11.3"
  }
 },
 "nbformat": 4,
 "nbformat_minor": 2
}
